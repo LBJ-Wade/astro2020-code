{
 "cells": [
  {
   "cell_type": "code",
   "execution_count": null,
   "metadata": {
    "ExecuteTime": {
     "end_time": "2019-03-19T02:54:06.913962Z",
     "start_time": "2019-03-19T02:54:06.860617Z"
    }
   },
   "outputs": [],
   "source": [
    "%matplotlib inline\n",
    "%config InlineBackend.figure_format = 'retina'\n",
    "%load_ext autoreload\n",
    "%autoreload 2\n",
    "\n",
    "from __future__ import division\n",
    "import matplotlib\n",
    "import matplotlib.pyplot as plt\n",
    "from matplotlib.ticker import NullFormatter\n",
    "matplotlib.rcParams['figure.dpi'] = 2.5 * matplotlib.rcParams['figure.dpi']\n",
    "\n",
    "import numpy as np\n",
    "import sys, os, glob\n",
    "import pandas as pd\n",
    "import urllib\n",
    "import PyPDF2 as pypdf"
   ]
  },
  {
   "cell_type": "markdown",
   "metadata": {},
   "source": [
    "# Load Astro2020 data"
   ]
  },
  {
   "cell_type": "code",
   "execution_count": null,
   "metadata": {
    "ExecuteTime": {
     "end_time": "2019-03-19T00:58:01.936246Z",
     "start_time": "2019-03-19T00:58:01.881231Z"
    }
   },
   "outputs": [],
   "source": [
    "data = pd.read_csv('./20190313154248-SurveyExport.csv')"
   ]
  },
  {
   "cell_type": "markdown",
   "metadata": {},
   "source": [
    "# Define keyword"
   ]
  },
  {
   "cell_type": "code",
   "execution_count": null,
   "metadata": {
    "ExecuteTime": {
     "end_time": "2019-03-19T03:21:42.869590Z",
     "start_time": "2019-03-19T03:21:42.841733Z"
    },
    "collapsed": true
   },
   "outputs": [],
   "source": [
    "keyword = 'gravitational wave'\n",
    "#keyword = 'pulsar timing'\n",
    "#keyword = 'black hole'"
   ]
  },
  {
   "cell_type": "code",
   "execution_count": null,
   "metadata": {
    "ExecuteTime": {
     "end_time": "2019-03-19T03:21:45.074650Z",
     "start_time": "2019-03-19T03:21:45.033797Z"
    }
   },
   "outputs": [],
   "source": [
    "ct = 0\n",
    "for name in data['White Paper Title']:\n",
    "    if keyword in name.strip('-').lower():\n",
    "        print name\n",
    "        ct += 1\n",
    "print ct"
   ]
  },
  {
   "cell_type": "markdown",
   "metadata": {},
   "source": [
    "# Make directory"
   ]
  },
  {
   "cell_type": "code",
   "execution_count": null,
   "metadata": {
    "ExecuteTime": {
     "end_time": "2019-03-19T03:21:49.709487Z",
     "start_time": "2019-03-19T03:21:49.684508Z"
    }
   },
   "outputs": [],
   "source": [
    "directory = './{}_papers'.format(keyword.replace(\" \", \"\"))\n",
    "if not os.path.exists(directory):\n",
    "    os.makedirs(directory)"
   ]
  },
  {
   "cell_type": "markdown",
   "metadata": {},
   "source": [
    "# Download all relevant whitepapers"
   ]
  },
  {
   "cell_type": "code",
   "execution_count": null,
   "metadata": {
    "ExecuteTime": {
     "end_time": "2019-03-19T02:49:31.626863Z",
     "start_time": "2019-03-19T02:47:50.010387Z"
    }
   },
   "outputs": [],
   "source": [
    "for ii,entry in data.iterrows():\n",
    "    file_name = (entry['Last Name:Principal Author'] + \n",
    "                 entry['First Name:Principal Author'] + \n",
    "                 '.pdf')\n",
    "    if keyword in entry['White Paper Title'].strip('-').lower():\n",
    "        urllib.urlretrieve(entry['1:Upload File \\xc2\\xa0'], \n",
    "                           directory + '/' + file_name)\n",
    "        print file_name  "
   ]
  },
  {
   "cell_type": "markdown",
   "metadata": {},
   "source": [
    "# Concatenate pdf files"
   ]
  },
  {
   "cell_type": "markdown",
   "metadata": {},
   "source": [
    "Creates table of contents based on the principal author's name."
   ]
  },
  {
   "cell_type": "code",
   "execution_count": null,
   "metadata": {
    "ExecuteTime": {
     "end_time": "2019-03-19T03:21:51.767732Z",
     "start_time": "2019-03-19T03:21:51.736151Z"
    },
    "collapsed": true
   },
   "outputs": [],
   "source": [
    "def PDFmerge(pdfs, output):\n",
    "    # creating pdf file merger object\n",
    "    pdfMerger = pypdf.PdfFileMerger()\n",
    " \n",
    "    # appending pdfs one by one\n",
    "    for pdf in pdfs:\n",
    "        with open(pdf, 'rb') as f:\n",
    "            pdfMerger.append(f, bookmark=pdf.split(directory + '/')[1], import_bookmarks=False)\n",
    " \n",
    "    # writing combined pdf to output pdf file\n",
    "    with open(output, 'wb') as f:\n",
    "        pdfMerger.write(f)"
   ]
  },
  {
   "cell_type": "code",
   "execution_count": null,
   "metadata": {
    "ExecuteTime": {
     "end_time": "2019-03-19T03:21:51.907411Z",
     "start_time": "2019-03-19T03:21:51.870675Z"
    },
    "collapsed": true
   },
   "outputs": [],
   "source": [
    "pdfs = sorted(glob.glob(directory + '/*.pdf'))"
   ]
  },
  {
   "cell_type": "code",
   "execution_count": null,
   "metadata": {
    "ExecuteTime": {
     "end_time": "2019-03-19T03:21:55.613309Z",
     "start_time": "2019-03-19T03:21:52.068074Z"
    }
   },
   "outputs": [],
   "source": [
    "PDFmerge(pdfs = pdfs, output = directory + '/' + keyword.replace(\" \", \"\") + '.pdf')"
   ]
  },
  {
   "cell_type": "code",
   "execution_count": null,
   "metadata": {
    "collapsed": true
   },
   "outputs": [],
   "source": []
  }
 ],
 "metadata": {
  "kernelspec": {
   "display_name": "Python 2",
   "language": "python",
   "name": "python2"
  },
  "language_info": {
   "codemirror_mode": {
    "name": "ipython",
    "version": 2
   },
   "file_extension": ".py",
   "mimetype": "text/x-python",
   "name": "python",
   "nbconvert_exporter": "python",
   "pygments_lexer": "ipython2",
   "version": "2.7.15"
  },
  "toc": {
   "nav_menu": {},
   "number_sections": true,
   "sideBar": true,
   "skip_h1_title": false,
   "toc_cell": false,
   "toc_position": {},
   "toc_section_display": "block",
   "toc_window_display": false
  }
 },
 "nbformat": 4,
 "nbformat_minor": 2
}
